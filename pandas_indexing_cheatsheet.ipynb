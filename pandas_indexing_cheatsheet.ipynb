{
 "cells": [
  {
   "cell_type": "markdown",
   "id": "79bf88bb-38c5-4811-aa26-624a9a669576",
   "metadata": {},
   "source": [
    "# Pandas Indexing Cheatsheet"
   ]
  },
  {
   "cell_type": "code",
   "execution_count": 1,
   "id": "50cafe8a-2ad3-4255-8ebf-a5613e859208",
   "metadata": {},
   "outputs": [
    {
     "name": "stdout",
     "output_type": "stream",
     "text": [
      "Hello World!\n"
     ]
    }
   ],
   "source": [
    "print(f\"Hello World!\")"
   ]
  },
  {
   "cell_type": "code",
   "execution_count": null,
   "id": "c39ae3ac-960d-49bf-ad92-69a6f6407184",
   "metadata": {},
   "outputs": [],
   "source": []
  }
 ],
 "metadata": {
  "kernelspec": {
   "display_name": "Python 3 (ipykernel)",
   "language": "python",
   "name": "python3"
  },
  "language_info": {
   "codemirror_mode": {
    "name": "ipython",
    "version": 3
   },
   "file_extension": ".py",
   "mimetype": "text/x-python",
   "name": "python",
   "nbconvert_exporter": "python",
   "pygments_lexer": "ipython3",
   "version": "3.12.7"
  }
 },
 "nbformat": 4,
 "nbformat_minor": 5
}
